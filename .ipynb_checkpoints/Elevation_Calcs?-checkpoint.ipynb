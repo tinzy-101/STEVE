{
 "cells": [
  {
   "cell_type": "markdown",
   "id": "d47520f4-b005-4cfe-858b-2b71da4bb0f0",
   "metadata": {},
   "source": [
    "### Imports"
   ]
  },
  {
   "cell_type": "code",
   "execution_count": 30,
   "id": "19cc1df8-d6ae-41e9-b45c-d82d630c0705",
   "metadata": {},
   "outputs": [
    {
     "data": {
      "text/plain": [
       "<module 'skymap_data_helper' from '/home/molidae/Desktop/berkeley/ssl/skymap_data_helper.py'>"
      ]
     },
     "execution_count": 30,
     "metadata": {},
     "output_type": "execute_result"
    }
   ],
   "source": [
    "#for dealing with data:\n",
    "from datetime import datetime, timedelta\n",
    "import pandas as pd\n",
    "import numpy as np\n",
    "import xarray as xr\n",
    "\n",
    "#for dealing with files:\n",
    "import os\n",
    "import re\n",
    "from scipy.io import readsav\n",
    "import h5py\n",
    "import requests\n",
    "from bs4 import BeautifulSoup\n",
    "from tqdm import tqdm\n",
    "from urllib.parse import urljoin, urlparse\n",
    "import time\n",
    "\n",
    "#for plotting (the rcParams updates are my personal perference to change font and increase fontsize)\n",
    "import matplotlib.pyplot as plt\n",
    "import matplotlib\n",
    "from matplotlib.colors import ListedColormap\n",
    "matplotlib.rcParams['mathtext.fontset'] = 'custom'\n",
    "matplotlib.rcParams['mathtext.fontset'] = 'stix'\n",
    "matplotlib.rcParams['font.family'] = 'STIXGeneral'\n",
    "plt.rcParams.update({'font.size': 24,\\\n",
    "                     'xtick.labelsize' : 24,\\\n",
    "                     'ytick.labelsize' : 24,\\\n",
    "                     'axes.titlesize' : 24,\\\n",
    "                     'axes.labelsize' : 24,\\\n",
    "                     'date.autoformatter.minute': '%H:%M' })\n",
    "\n",
    "# all helper functions for downloading and parsing data\n",
    "import skymap_data_helper\n",
    "\n",
    "# for contrast adjustment\n",
    "import cv2\n",
    "\n",
    "# for resolution increase\n",
    "from PIL import Image\n",
    "\n",
    "import importlib\n",
    "importlib.reload(skymap_data_helper)\n",
    "\n",
    "import math\n",
    "\n",
    "import importlib\n",
    "importlib.reload(skymap_data_helper)\n",
    "\n",
    "\n",
    "\n",
    "#data_yknf = readsav(\"./trex-rgb-asi_data/rgb_skymap_yknf_20240829-%2B_v01.sav\", verbose=False)['skymap']\n",
    "#data_fsmi = readsav(\"./trex-rgb-asi_data/rgb_skymap_fsmi_20240808-%2B_v01.sav\", verbose=False)['skymap']\n",
    "\n",
    "\n"
   ]
  },
  {
   "cell_type": "markdown",
   "id": "85e64385-6a91-42f2-848b-ca69179c0449",
   "metadata": {},
   "source": [
    "### Loading Data"
   ]
  },
  {
   "cell_type": "code",
   "execution_count": 32,
   "id": "ae196dcf-1f0a-484a-b8db-85e43fddccd4",
   "metadata": {},
   "outputs": [
    {
     "name": "stdout",
     "output_type": "stream",
     "text": [
      "Skymap file:\n",
      "rgb_skymap_yknf_20240829-%2B_v01.sav\n",
      "skymap path:\n",
      "./trex-rgb-asi_data/rgb_skymap_yknf_20240829-%2B_v01.sav\n",
      "Skymap file:\n",
      "rgb_skymap_fsmi_20240808-%2B_v01.sav\n",
      "skymap path:\n",
      "./trex-rgb-asi_data/rgb_skymap_fsmi_20240808-%2B_v01.sav\n"
     ]
    }
   ],
   "source": [
    "#load an hour of data\n",
    "site_yknf = 'yknf'\n",
    "site_fsmi = 'fsmi'\n",
    "date = datetime(2024,8,30)\n",
    "hour = 5 #this is in UT\n",
    "\n",
    "rgb_asi_skymap_lookup_df = skymap_data_helper.build_rgb_asi_skymap_lookup_table(directory='./trex-rgb-asi_data') #CHANGE TO YOUR SKYMAP DIRECTORY!\n",
    "yknf_rgb_asi_ds = skymap_data_helper.load_rgb_asi_hour_to_xarray(site_yknf, date, hour, rgb_asi_skymap_lookup_df,data_dir='./trex-rgb-asi_data', skymap_dir='./trex-rgb-asi_data') #CHANGE DIRECTORIES!\n",
    "fsmi_rgb_asi_ds = skymap_data_helper.load_rgb_asi_hour_to_xarray(site_fsmi, date, hour, rgb_asi_skymap_lookup_df,data_dir='./trex-rgb-asi_data', skymap_dir='./trex-rgb-asi_data') #CHANGE DIRECTORIES!\n"
   ]
  },
  {
   "cell_type": "markdown",
   "id": "2a0ae734-a3b1-4b37-99a4-09a6165a1523",
   "metadata": {},
   "source": [
    "### Projecting pixels to some lat/lon"
   ]
  },
  {
   "cell_type": "code",
   "execution_count": 16,
   "id": "48bafb7b-06c7-4f20-8135-3ed1cdecb94f",
   "metadata": {},
   "outputs": [],
   "source": [
    "def project_lat_lon(az_arr, el_arr, lat_camera, lon_camera, h):\n",
    "    '''\n",
    "    params: \n",
    "    az_arr = 2D azimuth array for each pixel (NaNs ok, degrees, xarray)\n",
    "    el_arr = 2D elevation array for each pixel (NaNs ok, degrees, xarray)\n",
    "    lat_camera = latitude of camera (degrees)\n",
    "    lon_camera = longitude of camera (degrees)\n",
    "    h = height you want to project azimuth and elevation to to get latitude and longitude for each pixel\n",
    "\n",
    "    returns: \n",
    "    lat_aurora_arr = latitudes of the aurora projected to given height h\n",
    "    lon_aurora_arr = longitudes of the aurora project to give height h \n",
    "    '''\n",
    "\n",
    "    az_arr = np.array(az_arr) * math.pi / 180\n",
    "    el_arr = np.array(el_arr) * math.pi / 180\n",
    "    \n",
    "    \n",
    "    # horizontal distance between camera and aurora along camera's tangent plane\n",
    "    d1_arr = h / np.tan(el_arr)\n",
    "\n",
    "    # decompose horizontal distance into east and north components relative to camera tan plane\n",
    "    dx_arr = d1_arr * np.sin(az_arr)\n",
    "    dy_arr = d1_arr * np.cos(az_arr)\n",
    "\n",
    "    # convert N/E offset components to (lat, lon) --> comes out in decimal degrees \n",
    "    lat_delta_arr = dx_arr / 111045\n",
    "    lon_delta_arr = dy_arr / (np.cos(lat_camera) * 111321) \n",
    "\n",
    "    # add lat/long offset to camera's og lat/lon to get the lat/lon of the aurora at the chosen height!\n",
    "    lat_aurora_arr = lat_camera + lat_delta_arr\n",
    "    lon_aurora_arr = lon_camera + lon_delta_arr\n",
    "\n",
    "    return lat_aurora_arr, lon_aurora_arr"
   ]
  },
  {
   "cell_type": "code",
   "execution_count": 37,
   "id": "5d4679e1-1829-4797-9fbd-15684f044c6c",
   "metadata": {},
   "outputs": [],
   "source": [
    "h_target = 110000 \n",
    "lat_yknf = yknf_rgb_asi_ds.attrs[\"site_latitude\"]\n",
    "lon_yknf = yknf_rgb_asi_ds.attrs[\"site_longitude\"]\n",
    "full_elevation_yknf = yknf_rgb_asi_ds[\"elevation\"]\n",
    "full_azimuth_yknf = yknf_rgb_asi_ds[\"azimuth\"]\n",
    "\n",
    "lat_proj_110_arr, lon_proj_110_arr = project_lat_lon(full_azimuth_yknf, \n",
    "                                                 full_elevation_yknf,\n",
    "                                                 lat_yknf,\n",
    "                                                 lon_yknf,\n",
    "                                                 h_target\n",
    "                                                )\n",
    "\n",
    "\n",
    "    # ds_all.attrs[\"site_latitude\"] = skymap[\"site_lat\"]\n",
    "    # ds_all.attrs[\"site_longitude\"] = skymap[\"site_lon\"]\n",
    "    # ds_all.attrs[\"site_altitude_m\"] = skymap[\"site_alt\"]\n",
    "    # ds_all.attrs[\"skymap_file\"] = skymap_file\n",
    "\n",
    "    # ds_all[\"elevation\"] = ((\"x\", \"y\"), skymap[\"elevation\"])\n",
    "    # ds_all[\"azimuth\"] = ((\"x\", \"y\"), skymap[\"azimuth\"])\n",
    "    # ds_all[\"lat_110\"] = ((\"x\", \"y\"), skymap[\"map_latitude\"][1,1:,1:])\n",
    "    # ds_all[\"lon_110\"] = ((\"x\", \"y\"), skymap[\"map_longitude\"][1,1:,1:])\n"
   ]
  },
  {
   "cell_type": "code",
   "execution_count": 38,
   "id": "3154668d-855a-402b-9771-fe08f0148d3b",
   "metadata": {},
   "outputs": [],
   "source": [
    "lat_110_arr = np.array(yknf_rgb_asi_ds[\"lat_110\"])\n",
    "lon_110_arr = np.array(yknf_rgb_asi_ds[\"lon_110\"])"
   ]
  },
  {
   "cell_type": "code",
   "execution_count": null,
   "id": "c37a5c09-27fc-4a66-9725-b635a1e0aacf",
   "metadata": {},
   "outputs": [],
   "source": [
    "plt.scatter(lat_110_arr.flatten(), lon_110_arr.flatten(), s=1, label=\"skymap\")\n",
    "plt.scatter(lat_proj_110_arr.flatten(), lat_proj_110_arr.flatten(), s=1, label=\"projected to 110\")\n",
    "plt.legend()\n",
    "plt.xlabel(\"Longitude\")\n",
    "plt.ylabel(\"Latitude\")\n",
    "plt.show()"
   ]
  },
  {
   "cell_type": "code",
   "execution_count": null,
   "id": "96f22a91-b941-4159-8f7b-1870e44c9d5b",
   "metadata": {},
   "outputs": [],
   "source": []
  }
 ],
 "metadata": {
  "kernelspec": {
   "display_name": "Python 3 (ipykernel)",
   "language": "python",
   "name": "python3"
  },
  "language_info": {
   "codemirror_mode": {
    "name": "ipython",
    "version": 3
   },
   "file_extension": ".py",
   "mimetype": "text/x-python",
   "name": "python",
   "nbconvert_exporter": "python",
   "pygments_lexer": "ipython3",
   "version": "3.8.20"
  }
 },
 "nbformat": 4,
 "nbformat_minor": 5
}
